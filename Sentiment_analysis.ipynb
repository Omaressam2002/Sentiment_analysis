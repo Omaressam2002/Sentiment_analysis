{
 "cells": [
  {
   "cell_type": "code",
   "execution_count": 1,
   "metadata": {
    "colab": {
     "base_uri": "https://localhost:8080/"
    },
    "id": "DP6gFaLN-63P",
    "outputId": "12d10b54-09a6-4fce-ae8b-7ca416d4bdd8"
   },
   "outputs": [
    {
     "name": "stderr",
     "output_type": "stream",
     "text": [
      "[nltk_data] Downloading package stopwords to\n",
      "[nltk_data]     /Users/omarelshobky/nltk_data...\n",
      "[nltk_data]   Package stopwords is already up-to-date!\n",
      "[nltk_data] Downloading package averaged_perceptron_tagger to\n",
      "[nltk_data]     /Users/omarelshobky/nltk_data...\n",
      "[nltk_data]   Package averaged_perceptron_tagger is already up-to-\n",
      "[nltk_data]       date!\n"
     ]
    },
    {
     "data": {
      "text/plain": [
       "True"
      ]
     },
     "execution_count": 1,
     "metadata": {},
     "output_type": "execute_result"
    }
   ],
   "source": [
    "import warnings\n",
    "warnings.filterwarnings(\"ignore\")\n",
    "\n",
    "import numpy as np\n",
    "import pandas as pd\n",
    "import matplotlib.pyplot as plt\n",
    "\n",
    "import nltk\n",
    "from nltk.stem.porter import PorterStemmer\n",
    "from string import punctuation\n",
    "import re\n",
    "\n",
    "from sklearn.feature_extraction.text import TfidfVectorizer\n",
    "from sklearn.model_selection import train_test_split\n",
    "\n",
    "from sklearn.linear_model import LogisticRegression\n",
    "from sklearn import metrics\n",
    "\n",
    "from datetime import datetime\n",
    "\n",
    "from nltk.corpus import stopwords\n",
    "nltk.download('stopwords')\n",
    "nltk.download('averaged_perceptron_tagger')"
   ]
  },
  {
   "cell_type": "code",
   "execution_count": 2,
   "metadata": {},
   "outputs": [
    {
     "data": {
      "text/html": [
       "<div>\n",
       "<style scoped>\n",
       "    .dataframe tbody tr th:only-of-type {\n",
       "        vertical-align: middle;\n",
       "    }\n",
       "\n",
       "    .dataframe tbody tr th {\n",
       "        vertical-align: top;\n",
       "    }\n",
       "\n",
       "    .dataframe thead th {\n",
       "        text-align: right;\n",
       "    }\n",
       "</style>\n",
       "<table border=\"1\" class=\"dataframe\">\n",
       "  <thead>\n",
       "    <tr style=\"text-align: right;\">\n",
       "      <th></th>\n",
       "      <th>textID</th>\n",
       "      <th>text</th>\n",
       "      <th>selected_text</th>\n",
       "      <th>sentiment</th>\n",
       "      <th>Time of Tweet</th>\n",
       "      <th>Age of User</th>\n",
       "      <th>Country</th>\n",
       "      <th>Population -2020</th>\n",
       "      <th>Land Area (Km²)</th>\n",
       "      <th>Density (P/Km²)</th>\n",
       "    </tr>\n",
       "  </thead>\n",
       "  <tbody>\n",
       "    <tr>\n",
       "      <th>0</th>\n",
       "      <td>cb774db0d1</td>\n",
       "      <td>I`d have responded, if I were going</td>\n",
       "      <td>I`d have responded, if I were going</td>\n",
       "      <td>neutral</td>\n",
       "      <td>morning</td>\n",
       "      <td>0-20</td>\n",
       "      <td>Afghanistan</td>\n",
       "      <td>38928346</td>\n",
       "      <td>652860.0</td>\n",
       "      <td>60</td>\n",
       "    </tr>\n",
       "    <tr>\n",
       "      <th>1</th>\n",
       "      <td>549e992a42</td>\n",
       "      <td>Sooo SAD I will miss you here in San Diego!!!</td>\n",
       "      <td>Sooo SAD</td>\n",
       "      <td>negative</td>\n",
       "      <td>noon</td>\n",
       "      <td>21-30</td>\n",
       "      <td>Albania</td>\n",
       "      <td>2877797</td>\n",
       "      <td>27400.0</td>\n",
       "      <td>105</td>\n",
       "    </tr>\n",
       "    <tr>\n",
       "      <th>2</th>\n",
       "      <td>088c60f138</td>\n",
       "      <td>my boss is bullying me...</td>\n",
       "      <td>bullying me</td>\n",
       "      <td>negative</td>\n",
       "      <td>night</td>\n",
       "      <td>31-45</td>\n",
       "      <td>Algeria</td>\n",
       "      <td>43851044</td>\n",
       "      <td>2381740.0</td>\n",
       "      <td>18</td>\n",
       "    </tr>\n",
       "    <tr>\n",
       "      <th>3</th>\n",
       "      <td>9642c003ef</td>\n",
       "      <td>what interview! leave me alone</td>\n",
       "      <td>leave me alone</td>\n",
       "      <td>negative</td>\n",
       "      <td>morning</td>\n",
       "      <td>46-60</td>\n",
       "      <td>Andorra</td>\n",
       "      <td>77265</td>\n",
       "      <td>470.0</td>\n",
       "      <td>164</td>\n",
       "    </tr>\n",
       "    <tr>\n",
       "      <th>4</th>\n",
       "      <td>358bd9e861</td>\n",
       "      <td>Sons of ****, why couldn`t they put them on t...</td>\n",
       "      <td>Sons of ****,</td>\n",
       "      <td>negative</td>\n",
       "      <td>noon</td>\n",
       "      <td>60-70</td>\n",
       "      <td>Angola</td>\n",
       "      <td>32866272</td>\n",
       "      <td>1246700.0</td>\n",
       "      <td>26</td>\n",
       "    </tr>\n",
       "  </tbody>\n",
       "</table>\n",
       "</div>"
      ],
      "text/plain": [
       "       textID                                               text  \\\n",
       "0  cb774db0d1                I`d have responded, if I were going   \n",
       "1  549e992a42      Sooo SAD I will miss you here in San Diego!!!   \n",
       "2  088c60f138                          my boss is bullying me...   \n",
       "3  9642c003ef                     what interview! leave me alone   \n",
       "4  358bd9e861   Sons of ****, why couldn`t they put them on t...   \n",
       "\n",
       "                         selected_text sentiment Time of Tweet Age of User  \\\n",
       "0  I`d have responded, if I were going   neutral       morning        0-20   \n",
       "1                             Sooo SAD  negative          noon       21-30   \n",
       "2                          bullying me  negative         night       31-45   \n",
       "3                       leave me alone  negative       morning       46-60   \n",
       "4                        Sons of ****,  negative          noon       60-70   \n",
       "\n",
       "       Country  Population -2020  Land Area (Km²)  Density (P/Km²)  \n",
       "0  Afghanistan          38928346         652860.0               60  \n",
       "1      Albania           2877797          27400.0              105  \n",
       "2      Algeria          43851044        2381740.0               18  \n",
       "3      Andorra             77265            470.0              164  \n",
       "4       Angola          32866272        1246700.0               26  "
      ]
     },
     "execution_count": 2,
     "metadata": {},
     "output_type": "execute_result"
    }
   ],
   "source": [
    "train = pd.read_csv(\"Dataset/train.csv\" ,encoding='unicode_escape')\n",
    "train.head(5)"
   ]
  },
  {
   "cell_type": "markdown",
   "metadata": {},
   "source": [
    "now i will drop country and population ect... because they are irrelevant to the problem, also dropping Age of user because this feature is not supported in the other dataset and also not that relevant to the problem. Also convert categorical features into features into float types."
   ]
  },
  {
   "cell_type": "code",
   "execution_count": 3,
   "metadata": {},
   "outputs": [
    {
     "data": {
      "text/html": [
       "<div>\n",
       "<style scoped>\n",
       "    .dataframe tbody tr th:only-of-type {\n",
       "        vertical-align: middle;\n",
       "    }\n",
       "\n",
       "    .dataframe tbody tr th {\n",
       "        vertical-align: top;\n",
       "    }\n",
       "\n",
       "    .dataframe thead th {\n",
       "        text-align: right;\n",
       "    }\n",
       "</style>\n",
       "<table border=\"1\" class=\"dataframe\">\n",
       "  <thead>\n",
       "    <tr style=\"text-align: right;\">\n",
       "      <th></th>\n",
       "      <th>textID</th>\n",
       "      <th>selected_text</th>\n",
       "      <th>sentiment</th>\n",
       "      <th>Time of Tweet</th>\n",
       "    </tr>\n",
       "  </thead>\n",
       "  <tbody>\n",
       "    <tr>\n",
       "      <th>0</th>\n",
       "      <td>cb774db0d1</td>\n",
       "      <td>I`d have responded, if I were going</td>\n",
       "      <td>1</td>\n",
       "      <td>0.0</td>\n",
       "    </tr>\n",
       "    <tr>\n",
       "      <th>1</th>\n",
       "      <td>549e992a42</td>\n",
       "      <td>Sooo SAD</td>\n",
       "      <td>0</td>\n",
       "      <td>0.5</td>\n",
       "    </tr>\n",
       "    <tr>\n",
       "      <th>2</th>\n",
       "      <td>088c60f138</td>\n",
       "      <td>bullying me</td>\n",
       "      <td>0</td>\n",
       "      <td>1.0</td>\n",
       "    </tr>\n",
       "    <tr>\n",
       "      <th>3</th>\n",
       "      <td>9642c003ef</td>\n",
       "      <td>leave me alone</td>\n",
       "      <td>0</td>\n",
       "      <td>0.0</td>\n",
       "    </tr>\n",
       "    <tr>\n",
       "      <th>4</th>\n",
       "      <td>358bd9e861</td>\n",
       "      <td>Sons of ****,</td>\n",
       "      <td>0</td>\n",
       "      <td>0.5</td>\n",
       "    </tr>\n",
       "  </tbody>\n",
       "</table>\n",
       "</div>"
      ],
      "text/plain": [
       "       textID                        selected_text  sentiment  Time of Tweet\n",
       "0  cb774db0d1  I`d have responded, if I were going          1            0.0\n",
       "1  549e992a42                             Sooo SAD          0            0.5\n",
       "2  088c60f138                          bullying me          0            1.0\n",
       "3  9642c003ef                       leave me alone          0            0.0\n",
       "4  358bd9e861                        Sons of ****,          0            0.5"
      ]
     },
     "execution_count": 3,
     "metadata": {},
     "output_type": "execute_result"
    }
   ],
   "source": [
    "train.drop(axis = 1,labels = ['Population -2020','Land Area (Km²)','Country','Age of User',\"Density (P/Km²)\",'text'],inplace=True)\n",
    "train = train[train.selected_text.notnull()]\n",
    "train.reset_index(drop=True,inplace = True )\n",
    "\n",
    "train['Time of Tweet'][train['Time of Tweet'] == 'morning'] = 0\n",
    "train['Time of Tweet'][train['Time of Tweet'] == 'noon'] = 0.5 \n",
    "train['Time of Tweet'][train['Time of Tweet'] == 'night'] = 1\n",
    "train['Time of Tweet'] = (train['Time of Tweet'].astype('float'))\n",
    "\n",
    "train['sentiment'][train['sentiment'] == 'negative'] = 0\n",
    "train['sentiment'][train['sentiment'] == 'neutral'] = 1\n",
    "train['sentiment'][train['sentiment'] == 'positive'] = 2\n",
    "train['sentiment'] = (train['sentiment'].astype('int'))\n",
    "\n",
    "train.head(5)"
   ]
  },
  {
   "cell_type": "code",
   "execution_count": 4,
   "metadata": {},
   "outputs": [
    {
     "data": {
      "text/html": [
       "<div>\n",
       "<style scoped>\n",
       "    .dataframe tbody tr th:only-of-type {\n",
       "        vertical-align: middle;\n",
       "    }\n",
       "\n",
       "    .dataframe tbody tr th {\n",
       "        vertical-align: top;\n",
       "    }\n",
       "\n",
       "    .dataframe thead th {\n",
       "        text-align: right;\n",
       "    }\n",
       "</style>\n",
       "<table border=\"1\" class=\"dataframe\">\n",
       "  <thead>\n",
       "    <tr style=\"text-align: right;\">\n",
       "      <th></th>\n",
       "      <th>polarity of tweet</th>\n",
       "      <th>id of the tweet</th>\n",
       "      <th>date of the tweet</th>\n",
       "      <th>query</th>\n",
       "      <th>user</th>\n",
       "      <th>text of the tweet</th>\n",
       "    </tr>\n",
       "  </thead>\n",
       "  <tbody>\n",
       "    <tr>\n",
       "      <th>0</th>\n",
       "      <td>0</td>\n",
       "      <td>1467810672</td>\n",
       "      <td>Mon Apr 06 22:19:49 PDT 2009</td>\n",
       "      <td>NO_QUERY</td>\n",
       "      <td>scotthamilton</td>\n",
       "      <td>is upset that he can't update his Facebook by ...</td>\n",
       "    </tr>\n",
       "    <tr>\n",
       "      <th>1</th>\n",
       "      <td>0</td>\n",
       "      <td>1467810917</td>\n",
       "      <td>Mon Apr 06 22:19:53 PDT 2009</td>\n",
       "      <td>NO_QUERY</td>\n",
       "      <td>mattycus</td>\n",
       "      <td>@Kenichan I dived many times for the ball. Man...</td>\n",
       "    </tr>\n",
       "    <tr>\n",
       "      <th>2</th>\n",
       "      <td>0</td>\n",
       "      <td>1467811184</td>\n",
       "      <td>Mon Apr 06 22:19:57 PDT 2009</td>\n",
       "      <td>NO_QUERY</td>\n",
       "      <td>ElleCTF</td>\n",
       "      <td>my whole body feels itchy and like its on fire</td>\n",
       "    </tr>\n",
       "    <tr>\n",
       "      <th>3</th>\n",
       "      <td>0</td>\n",
       "      <td>1467811193</td>\n",
       "      <td>Mon Apr 06 22:19:57 PDT 2009</td>\n",
       "      <td>NO_QUERY</td>\n",
       "      <td>Karoli</td>\n",
       "      <td>@nationwideclass no, it's not behaving at all....</td>\n",
       "    </tr>\n",
       "    <tr>\n",
       "      <th>4</th>\n",
       "      <td>0</td>\n",
       "      <td>1467811372</td>\n",
       "      <td>Mon Apr 06 22:20:00 PDT 2009</td>\n",
       "      <td>NO_QUERY</td>\n",
       "      <td>joy_wolf</td>\n",
       "      <td>@Kwesidei not the whole crew</td>\n",
       "    </tr>\n",
       "  </tbody>\n",
       "</table>\n",
       "</div>"
      ],
      "text/plain": [
       "   polarity of tweet   id of the tweet             date of the tweet  \\\n",
       "0                   0       1467810672  Mon Apr 06 22:19:49 PDT 2009   \n",
       "1                   0       1467810917  Mon Apr 06 22:19:53 PDT 2009   \n",
       "2                   0       1467811184  Mon Apr 06 22:19:57 PDT 2009   \n",
       "3                   0       1467811193  Mon Apr 06 22:19:57 PDT 2009   \n",
       "4                   0       1467811372  Mon Apr 06 22:20:00 PDT 2009   \n",
       "\n",
       "      query           user                                 text of the tweet   \n",
       "0  NO_QUERY  scotthamilton  is upset that he can't update his Facebook by ...  \n",
       "1  NO_QUERY       mattycus  @Kenichan I dived many times for the ball. Man...  \n",
       "2  NO_QUERY        ElleCTF    my whole body feels itchy and like its on fire   \n",
       "3  NO_QUERY         Karoli  @nationwideclass no, it's not behaving at all....  \n",
       "4  NO_QUERY       joy_wolf                      @Kwesidei not the whole crew   "
      ]
     },
     "execution_count": 4,
     "metadata": {},
     "output_type": "execute_result"
    }
   ],
   "source": [
    "train2 = pd.read_csv(\"Dataset/training.1600000.processed.noemoticon.csv\",delimiter=',', encoding='ISO-8859-1')\n",
    "train2.head(5)"
   ]
  },
  {
   "cell_type": "markdown",
   "metadata": {},
   "source": [
    "we will keep only the columns in the previous dataset and cahnge the column names to match"
   ]
  },
  {
   "cell_type": "code",
   "execution_count": 5,
   "metadata": {},
   "outputs": [
    {
     "data": {
      "text/html": [
       "<div>\n",
       "<style scoped>\n",
       "    .dataframe tbody tr th:only-of-type {\n",
       "        vertical-align: middle;\n",
       "    }\n",
       "\n",
       "    .dataframe tbody tr th {\n",
       "        vertical-align: top;\n",
       "    }\n",
       "\n",
       "    .dataframe thead th {\n",
       "        text-align: right;\n",
       "    }\n",
       "</style>\n",
       "<table border=\"1\" class=\"dataframe\">\n",
       "  <thead>\n",
       "    <tr style=\"text-align: right;\">\n",
       "      <th></th>\n",
       "      <th>textID</th>\n",
       "      <th>selected_text</th>\n",
       "      <th>sentiment</th>\n",
       "      <th>Time of Tweet</th>\n",
       "    </tr>\n",
       "  </thead>\n",
       "  <tbody>\n",
       "    <tr>\n",
       "      <th>0</th>\n",
       "      <td>1467810672</td>\n",
       "      <td>is upset that he can't update his Facebook by ...</td>\n",
       "      <td>0</td>\n",
       "      <td>Mon Apr 06 22:19:49 PDT 2009</td>\n",
       "    </tr>\n",
       "    <tr>\n",
       "      <th>1</th>\n",
       "      <td>1467810917</td>\n",
       "      <td>@Kenichan I dived many times for the ball. Man...</td>\n",
       "      <td>0</td>\n",
       "      <td>Mon Apr 06 22:19:53 PDT 2009</td>\n",
       "    </tr>\n",
       "    <tr>\n",
       "      <th>2</th>\n",
       "      <td>1467811184</td>\n",
       "      <td>my whole body feels itchy and like its on fire</td>\n",
       "      <td>0</td>\n",
       "      <td>Mon Apr 06 22:19:57 PDT 2009</td>\n",
       "    </tr>\n",
       "    <tr>\n",
       "      <th>3</th>\n",
       "      <td>1467811193</td>\n",
       "      <td>@nationwideclass no, it's not behaving at all....</td>\n",
       "      <td>0</td>\n",
       "      <td>Mon Apr 06 22:19:57 PDT 2009</td>\n",
       "    </tr>\n",
       "    <tr>\n",
       "      <th>4</th>\n",
       "      <td>1467811372</td>\n",
       "      <td>@Kwesidei not the whole crew</td>\n",
       "      <td>0</td>\n",
       "      <td>Mon Apr 06 22:20:00 PDT 2009</td>\n",
       "    </tr>\n",
       "  </tbody>\n",
       "</table>\n",
       "</div>"
      ],
      "text/plain": [
       "       textID                                      selected_text  sentiment  \\\n",
       "0  1467810672  is upset that he can't update his Facebook by ...          0   \n",
       "1  1467810917  @Kenichan I dived many times for the ball. Man...          0   \n",
       "2  1467811184    my whole body feels itchy and like its on fire           0   \n",
       "3  1467811193  @nationwideclass no, it's not behaving at all....          0   \n",
       "4  1467811372                      @Kwesidei not the whole crew           0   \n",
       "\n",
       "                  Time of Tweet  \n",
       "0  Mon Apr 06 22:19:49 PDT 2009  \n",
       "1  Mon Apr 06 22:19:53 PDT 2009  \n",
       "2  Mon Apr 06 22:19:57 PDT 2009  \n",
       "3  Mon Apr 06 22:19:57 PDT 2009  \n",
       "4  Mon Apr 06 22:20:00 PDT 2009  "
      ]
     },
     "execution_count": 5,
     "metadata": {},
     "output_type": "execute_result"
    }
   ],
   "source": [
    "train2 = train2[train2[train2.columns[-1]].notnull()]\n",
    "train2['sentiment'] = (train2['polarity of tweet\\xa0']//2)\n",
    "train2['textID'] = train2[train2.columns[1]]\n",
    "train2['Time of Tweet'] = train2[train2.columns[2]]\n",
    "train2.drop(labels = [train2.columns[0],train2.columns[2],train2.columns[3],train2.columns[4]],axis=1,inplace=True)\n",
    "\n",
    "train2['selected_text'] = train2[train2.columns[1]]\n",
    "train2 = train2[['textID','selected_text','sentiment','Time of Tweet']]\n",
    "train2.head(5)"
   ]
  },
  {
   "cell_type": "markdown",
   "metadata": {},
   "source": [
    "in this dataset time is given following a 24 hour time clock, so we need to categorize it. 0 -> 8 (8 AM) is considered night, 8 -> 16 (4 PM) is considered morning, 16 -> 0 (12 AM) is considered noon."
   ]
  },
  {
   "cell_type": "code",
   "execution_count": 6,
   "metadata": {},
   "outputs": [],
   "source": [
    "def categ_time(arr_of_dates):\n",
    "    arr_of_time = np.zeros(len(arr_of_dates), dtype = float)\n",
    "    i=0\n",
    "    for d in arr_of_dates:\n",
    "        t = datetime.strptime(d, '%a %b %d %H:%M:%S PDT %Y')\n",
    "        t =  t.hour\n",
    "        if (t >= 0 and t < 8):\n",
    "            t = 1  #night\n",
    "        elif(t >= 8 and t<= 16):\n",
    "            t = 0 #morning\n",
    "        else:\n",
    "            t= 0.5\n",
    "        arr_of_time[i] += t\n",
    "        i += 1\n",
    "    return arr_of_time"
   ]
  },
  {
   "cell_type": "code",
   "execution_count": 7,
   "metadata": {},
   "outputs": [
    {
     "data": {
      "text/html": [
       "<div>\n",
       "<style scoped>\n",
       "    .dataframe tbody tr th:only-of-type {\n",
       "        vertical-align: middle;\n",
       "    }\n",
       "\n",
       "    .dataframe tbody tr th {\n",
       "        vertical-align: top;\n",
       "    }\n",
       "\n",
       "    .dataframe thead th {\n",
       "        text-align: right;\n",
       "    }\n",
       "</style>\n",
       "<table border=\"1\" class=\"dataframe\">\n",
       "  <thead>\n",
       "    <tr style=\"text-align: right;\">\n",
       "      <th></th>\n",
       "      <th>textID</th>\n",
       "      <th>selected_text</th>\n",
       "      <th>sentiment</th>\n",
       "      <th>Time of Tweet</th>\n",
       "    </tr>\n",
       "  </thead>\n",
       "  <tbody>\n",
       "    <tr>\n",
       "      <th>0</th>\n",
       "      <td>1467810672</td>\n",
       "      <td>is upset that he can't update his Facebook by ...</td>\n",
       "      <td>0</td>\n",
       "      <td>0.5</td>\n",
       "    </tr>\n",
       "    <tr>\n",
       "      <th>1</th>\n",
       "      <td>1467810917</td>\n",
       "      <td>@Kenichan I dived many times for the ball. Man...</td>\n",
       "      <td>0</td>\n",
       "      <td>0.5</td>\n",
       "    </tr>\n",
       "    <tr>\n",
       "      <th>2</th>\n",
       "      <td>1467811184</td>\n",
       "      <td>my whole body feels itchy and like its on fire</td>\n",
       "      <td>0</td>\n",
       "      <td>0.5</td>\n",
       "    </tr>\n",
       "    <tr>\n",
       "      <th>3</th>\n",
       "      <td>1467811193</td>\n",
       "      <td>@nationwideclass no, it's not behaving at all....</td>\n",
       "      <td>0</td>\n",
       "      <td>0.5</td>\n",
       "    </tr>\n",
       "    <tr>\n",
       "      <th>4</th>\n",
       "      <td>1467811372</td>\n",
       "      <td>@Kwesidei not the whole crew</td>\n",
       "      <td>0</td>\n",
       "      <td>0.5</td>\n",
       "    </tr>\n",
       "  </tbody>\n",
       "</table>\n",
       "</div>"
      ],
      "text/plain": [
       "       textID                                      selected_text  sentiment  \\\n",
       "0  1467810672  is upset that he can't update his Facebook by ...          0   \n",
       "1  1467810917  @Kenichan I dived many times for the ball. Man...          0   \n",
       "2  1467811184    my whole body feels itchy and like its on fire           0   \n",
       "3  1467811193  @nationwideclass no, it's not behaving at all....          0   \n",
       "4  1467811372                      @Kwesidei not the whole crew           0   \n",
       "\n",
       "   Time of Tweet  \n",
       "0            0.5  \n",
       "1            0.5  \n",
       "2            0.5  \n",
       "3            0.5  \n",
       "4            0.5  "
      ]
     },
     "execution_count": 7,
     "metadata": {},
     "output_type": "execute_result"
    }
   ],
   "source": [
    "train2['Time of Tweet'] = categ_time(train2['Time of Tweet'][:].values)\n",
    "train2.head(5)"
   ]
  },
  {
   "cell_type": "code",
   "execution_count": 8,
   "metadata": {},
   "outputs": [
    {
     "data": {
      "text/plain": [
       "0    799996\n",
       "2    248576\n",
       "Name: sentiment, dtype: int64"
      ]
     },
     "execution_count": 8,
     "metadata": {},
     "output_type": "execute_result"
    }
   ],
   "source": [
    "train2['sentiment'].value_counts()"
   ]
  },
  {
   "cell_type": "code",
   "execution_count": 9,
   "metadata": {},
   "outputs": [
    {
     "data": {
      "text/plain": [
       "1    11117\n",
       "2     8582\n",
       "0     7781\n",
       "Name: sentiment, dtype: int64"
      ]
     },
     "execution_count": 9,
     "metadata": {},
     "output_type": "execute_result"
    }
   ],
   "source": [
    "train['sentiment'].value_counts()"
   ]
  },
  {
   "cell_type": "markdown",
   "metadata": {},
   "source": [
    "there is a huge bias in the classes. and not enough neutral data to train. so we might stick to predicting negative and positive labels only."
   ]
  },
  {
   "cell_type": "code",
   "execution_count": 10,
   "metadata": {},
   "outputs": [],
   "source": [
    "neg = train[train['sentiment'] == 0]\n",
    "pos = train[train['sentiment'] == 2]"
   ]
  },
  {
   "cell_type": "code",
   "execution_count": 11,
   "metadata": {},
   "outputs": [],
   "source": [
    "neg2 = train2[train2['sentiment'] == 0]\n",
    "pos2 = train2[train2['sentiment'] == 2]"
   ]
  },
  {
   "cell_type": "code",
   "execution_count": 12,
   "metadata": {},
   "outputs": [],
   "source": [
    "pos = pos.append(pos2)\n",
    "neg = neg.append(neg2)\n",
    "neg = neg.sample(replace=False,n=len(pos),random_state=0)"
   ]
  },
  {
   "cell_type": "code",
   "execution_count": 13,
   "metadata": {},
   "outputs": [
    {
     "data": {
      "text/plain": [
       "2    257158\n",
       "0    257158\n",
       "Name: sentiment, dtype: int64"
      ]
     },
     "execution_count": 13,
     "metadata": {},
     "output_type": "execute_result"
    }
   ],
   "source": [
    "train = pos.append(neg)\n",
    "train['sentiment'].value_counts()"
   ]
  },
  {
   "cell_type": "code",
   "execution_count": 14,
   "metadata": {},
   "outputs": [],
   "source": [
    "train['sentiment'] = train['sentiment']//2"
   ]
  },
  {
   "cell_type": "code",
   "execution_count": 15,
   "metadata": {},
   "outputs": [
    {
     "data": {
      "text/html": [
       "<div>\n",
       "<style scoped>\n",
       "    .dataframe tbody tr th:only-of-type {\n",
       "        vertical-align: middle;\n",
       "    }\n",
       "\n",
       "    .dataframe tbody tr th {\n",
       "        vertical-align: top;\n",
       "    }\n",
       "\n",
       "    .dataframe thead th {\n",
       "        text-align: right;\n",
       "    }\n",
       "</style>\n",
       "<table border=\"1\" class=\"dataframe\">\n",
       "  <thead>\n",
       "    <tr style=\"text-align: right;\">\n",
       "      <th></th>\n",
       "      <th>textID</th>\n",
       "      <th>selected_text</th>\n",
       "      <th>sentiment</th>\n",
       "      <th>Time of Tweet</th>\n",
       "    </tr>\n",
       "  </thead>\n",
       "  <tbody>\n",
       "    <tr>\n",
       "      <th>0</th>\n",
       "      <td>2215717472</td>\n",
       "      <td>SYTYCD this season is SO hard to judge because...</td>\n",
       "      <td>0</td>\n",
       "      <td>0.5</td>\n",
       "    </tr>\n",
       "    <tr>\n",
       "      <th>1</th>\n",
       "      <td>2306024945</td>\n",
       "      <td>@patrick_ritchie well don't tease us like that</td>\n",
       "      <td>0</td>\n",
       "      <td>0.5</td>\n",
       "    </tr>\n",
       "    <tr>\n",
       "      <th>2</th>\n",
       "      <td>1880362486</td>\n",
       "      <td>Kyla is so great and so nice i like her songs....</td>\n",
       "      <td>1</td>\n",
       "      <td>1.0</td>\n",
       "    </tr>\n",
       "    <tr>\n",
       "      <th>3</th>\n",
       "      <td>1835719146</td>\n",
       "      <td>@IamButton oh Hai!  Are u ok after the quake a...</td>\n",
       "      <td>1</td>\n",
       "      <td>1.0</td>\n",
       "    </tr>\n",
       "    <tr>\n",
       "      <th>4</th>\n",
       "      <td>2069211499</td>\n",
       "      <td>I still can't believe I get a 3 week break for...</td>\n",
       "      <td>0</td>\n",
       "      <td>0.0</td>\n",
       "    </tr>\n",
       "    <tr>\n",
       "      <th>...</th>\n",
       "      <td>...</td>\n",
       "      <td>...</td>\n",
       "      <td>...</td>\n",
       "      <td>...</td>\n",
       "    </tr>\n",
       "    <tr>\n",
       "      <th>514311</th>\n",
       "      <td>1556384244</td>\n",
       "      <td>1:35am....I found my book manuscripts I wrote ...</td>\n",
       "      <td>1</td>\n",
       "      <td>0.5</td>\n",
       "    </tr>\n",
       "    <tr>\n",
       "      <th>514312</th>\n",
       "      <td>1694444031</td>\n",
       "      <td>has a busy day ahead of her, doing uni work -s...</td>\n",
       "      <td>0</td>\n",
       "      <td>1.0</td>\n",
       "    </tr>\n",
       "    <tr>\n",
       "      <th>514313</th>\n",
       "      <td>1694708048</td>\n",
       "      <td>is working.   I am so happy my job is a radio ...</td>\n",
       "      <td>1</td>\n",
       "      <td>1.0</td>\n",
       "    </tr>\n",
       "    <tr>\n",
       "      <th>514314</th>\n",
       "      <td>1880478917</td>\n",
       "      <td>@jtroyer I &amp;lt;3 VMWare!    it is one of the b...</td>\n",
       "      <td>1</td>\n",
       "      <td>1.0</td>\n",
       "    </tr>\n",
       "    <tr>\n",
       "      <th>514315</th>\n",
       "      <td>1760105689</td>\n",
       "      <td>@shawn360 girl i didn't laugh at that movie on...</td>\n",
       "      <td>0</td>\n",
       "      <td>0.5</td>\n",
       "    </tr>\n",
       "  </tbody>\n",
       "</table>\n",
       "<p>514316 rows × 4 columns</p>\n",
       "</div>"
      ],
      "text/plain": [
       "            textID                                      selected_text  \\\n",
       "0       2215717472  SYTYCD this season is SO hard to judge because...   \n",
       "1       2306024945    @patrick_ritchie well don't tease us like that    \n",
       "2       1880362486  Kyla is so great and so nice i like her songs....   \n",
       "3       1835719146  @IamButton oh Hai!  Are u ok after the quake a...   \n",
       "4       2069211499  I still can't believe I get a 3 week break for...   \n",
       "...            ...                                                ...   \n",
       "514311  1556384244  1:35am....I found my book manuscripts I wrote ...   \n",
       "514312  1694444031  has a busy day ahead of her, doing uni work -s...   \n",
       "514313  1694708048  is working.   I am so happy my job is a radio ...   \n",
       "514314  1880478917  @jtroyer I &lt;3 VMWare!    it is one of the b...   \n",
       "514315  1760105689  @shawn360 girl i didn't laugh at that movie on...   \n",
       "\n",
       "        sentiment  Time of Tweet  \n",
       "0               0            0.5  \n",
       "1               0            0.5  \n",
       "2               1            1.0  \n",
       "3               1            1.0  \n",
       "4               0            0.0  \n",
       "...           ...            ...  \n",
       "514311          1            0.5  \n",
       "514312          0            1.0  \n",
       "514313          1            1.0  \n",
       "514314          1            1.0  \n",
       "514315          0            0.5  \n",
       "\n",
       "[514316 rows x 4 columns]"
      ]
     },
     "execution_count": 15,
     "metadata": {},
     "output_type": "execute_result"
    }
   ],
   "source": [
    "train = train.sample(frac = 1).reset_index(drop=True)\n",
    "train"
   ]
  },
  {
   "cell_type": "code",
   "execution_count": 16,
   "metadata": {},
   "outputs": [
    {
     "data": {
      "text/plain": [
       "1.0    234039\n",
       "0.5    147199\n",
       "0.0    133078\n",
       "Name: Time of Tweet, dtype: int64"
      ]
     },
     "execution_count": 16,
     "metadata": {},
     "output_type": "execute_result"
    }
   ],
   "source": [
    "train['Time of Tweet'].value_counts()"
   ]
  },
  {
   "cell_type": "markdown",
   "metadata": {},
   "source": [
    "this bias is acceptable. now we need to preprocess the text now."
   ]
  },
  {
   "cell_type": "markdown",
   "metadata": {},
   "source": [
    "now to the text preprocessing. i will loop over all tweets,using regular expressions ,remove words that contain more than 2 consecutive identical chatracters like (aaahhh, zzzz) will be converted to (   ,    ), and remove special characters from words leave only '*' to recognize swear words. @ to recognize a username which to be removed later. then applying pos_tag to determine the word type.then loop over every word in the tweet and its type.if word is a letter then skip .if word contains * then it is a swear and counted as one and added back to the tweet. else i only add nouns verbs adjectives and adverbs back to the tweet ,only if it was not. a link or a username then dont ad it back to the tweet. so now we have tweets as words of the allowed type no letters no usernames no links."
   ]
  },
  {
   "cell_type": "code",
   "execution_count": 18,
   "metadata": {},
   "outputs": [],
   "source": [
    "def preprocess_text(tweets):\n",
    "    stemmer = PorterStemmer()\n",
    "    text = [] # array of new tweets\n",
    "    swears = [] # no of swears per tweet\n",
    "    bag_of_words = set({})\n",
    "    for i in range(0,len(tweets)):\n",
    "        if(i%10000 == 0):\n",
    "            print(f'iteration :{i}')\n",
    "        s = 0 # swear counter\n",
    "        tweet = re.sub('[^a-zA-Z*@\\s\\n\\']', ' ', tweets[i]) # removes any none alphabetic letter + allow swears and usernames to be removed as a whole later\n",
    "        tweet = re.sub(r'((\\w)\\2{2,})', ' ', tweet) # to remove words like aaaaah zzzzz etc.\n",
    "        tweet = tweet.lower()\n",
    "        tweet = tweet.split()\n",
    "        val = nltk.pos_tag(tweet) # gets word type\n",
    "        tweet = []\n",
    "        for j in range(0,len(val)-1):\n",
    "            val2 = val[j]\n",
    "            stemmed_word = stemmer.stem(val2[0])\n",
    "            if(len(val2[0]) <= 1):\n",
    "                continue\n",
    "            if(\"*\" in stemmed_word): \n",
    "                tweet.append('*')\n",
    "                bag_of_words.add('*')\n",
    "                s += 1\n",
    "            elif(val2[1] in ['NN','NNS','NNPS','NNP','VBZ','VBP','VBN','VBG','VBD','VB','RBS', 'RB', 'RBR','JJ','JJR','JJS']): # allowing verbs nouns adjctives and adverbs only\n",
    "                if (not (('http' in stemmed_word) or ('@' in stemmed_word) or ('www' in stemmed_word))): # and also word has to be not a link or a username\n",
    "                    tweet.append(stemmed_word)\n",
    "                    bag_of_words.add(stemmed_word)\n",
    "        \n",
    "        swears.append(s)   \n",
    "\n",
    "        tweet = [word for word in tweet]\n",
    "        text.append(' '.join(tweet))\n",
    "    \n",
    "    return text,bag_of_words,swears"
   ]
  },
  {
   "cell_type": "markdown",
   "metadata": {},
   "source": [
    "this function returns final(dataframe of [features + swear column(just for analysis not for the model]),Feat_vec(np array [words + time]),labels,bag of words just for analysis, tfidf_v)"
   ]
  },
  {
   "cell_type": "code",
   "execution_count": 19,
   "metadata": {
    "id": "U0MKJvOChoyD"
   },
   "outputs": [],
   "source": [
    "def FE(train,text_col_name = 'selected_text' , max_feat = 10000, ngram = (1,1)):\n",
    "    labels = train['sentiment'].values\n",
    "    msgs1,bag,swears = preprocess_text(train[text_col_name])\n",
    "\n",
    "    tfidf_v = TfidfVectorizer(max_features=max_feat,ngram_range=ngram)\n",
    "    Feat_vec = tfidf_v.fit_transform(msgs1).toarray()\n",
    "    cols = tfidf_v.get_feature_names_out()\n",
    "    print(\"After vectorization\")\n",
    "    final = pd.DataFrame(Feat_vec,columns = cols)\n",
    "    Feat_vec = np.column_stack([Feat_vec,(train['Time of Tweet'][:].values)])\n",
    "    \n",
    "    print(\"after adding\")\n",
    "    final['Time of Tweet'] = train['Time of Tweet'][:]\n",
    "    final['number_of_swears'] = np.array(swears,dtype=float)\n",
    "    \n",
    "    return final,Feat_vec,labels,bag,tfidf_v"
   ]
  },
  {
   "cell_type": "code",
   "execution_count": 20,
   "metadata": {
    "id": "S8m5TjEH4Ioy"
   },
   "outputs": [
    {
     "name": "stdout",
     "output_type": "stream",
     "text": [
      "iteration :0\n",
      "iteration :10000\n",
      "iteration :20000\n",
      "iteration :30000\n",
      "iteration :40000\n",
      "iteration :50000\n",
      "iteration :60000\n",
      "iteration :70000\n",
      "iteration :80000\n",
      "iteration :90000\n",
      "iteration :100000\n",
      "iteration :110000\n",
      "iteration :120000\n",
      "iteration :130000\n",
      "iteration :140000\n",
      "iteration :150000\n",
      "iteration :160000\n",
      "iteration :170000\n",
      "iteration :180000\n",
      "iteration :190000\n",
      "iteration :200000\n",
      "iteration :210000\n",
      "iteration :220000\n",
      "iteration :230000\n",
      "iteration :240000\n",
      "iteration :250000\n",
      "iteration :260000\n",
      "iteration :270000\n",
      "iteration :280000\n",
      "iteration :290000\n",
      "iteration :300000\n",
      "iteration :310000\n",
      "iteration :320000\n",
      "iteration :330000\n",
      "iteration :340000\n",
      "iteration :350000\n",
      "iteration :360000\n",
      "iteration :370000\n",
      "iteration :380000\n",
      "iteration :390000\n",
      "iteration :400000\n",
      "iteration :410000\n",
      "iteration :420000\n",
      "iteration :430000\n",
      "iteration :440000\n",
      "iteration :450000\n",
      "iteration :460000\n",
      "iteration :470000\n",
      "iteration :480000\n",
      "iteration :490000\n",
      "iteration :500000\n",
      "iteration :510000\n",
      "After vectorization\n",
      "after adding\n"
     ]
    }
   ],
   "source": [
    "df,features,labels,bag,tfidf_v = FE(train)"
   ]
  },
  {
   "cell_type": "code",
   "execution_count": 21,
   "metadata": {},
   "outputs": [
    {
     "data": {
      "text/html": [
       "<div>\n",
       "<style scoped>\n",
       "    .dataframe tbody tr th:only-of-type {\n",
       "        vertical-align: middle;\n",
       "    }\n",
       "\n",
       "    .dataframe tbody tr th {\n",
       "        vertical-align: top;\n",
       "    }\n",
       "\n",
       "    .dataframe thead th {\n",
       "        text-align: right;\n",
       "    }\n",
       "</style>\n",
       "<table border=\"1\" class=\"dataframe\">\n",
       "  <thead>\n",
       "    <tr style=\"text-align: right;\">\n",
       "      <th></th>\n",
       "      <th>aa</th>\n",
       "      <th>aah</th>\n",
       "      <th>aaron</th>\n",
       "      <th>ab</th>\n",
       "      <th>abandon</th>\n",
       "      <th>abc</th>\n",
       "      <th>abil</th>\n",
       "      <th>abit</th>\n",
       "      <th>abl</th>\n",
       "      <th>about</th>\n",
       "      <th>...</th>\n",
       "      <th>yummi</th>\n",
       "      <th>yup</th>\n",
       "      <th>yy</th>\n",
       "      <th>zac</th>\n",
       "      <th>zealand</th>\n",
       "      <th>zombi</th>\n",
       "      <th>zone</th>\n",
       "      <th>zoo</th>\n",
       "      <th>Time of Tweet</th>\n",
       "      <th>number_of_swears</th>\n",
       "    </tr>\n",
       "  </thead>\n",
       "  <tbody>\n",
       "    <tr>\n",
       "      <th>0</th>\n",
       "      <td>0.0</td>\n",
       "      <td>0.0</td>\n",
       "      <td>0.0</td>\n",
       "      <td>0.0</td>\n",
       "      <td>0.0</td>\n",
       "      <td>0.0</td>\n",
       "      <td>0.0</td>\n",
       "      <td>0.0</td>\n",
       "      <td>0.0</td>\n",
       "      <td>0.0</td>\n",
       "      <td>...</td>\n",
       "      <td>0.0</td>\n",
       "      <td>0.0</td>\n",
       "      <td>0.0</td>\n",
       "      <td>0.0</td>\n",
       "      <td>0.0</td>\n",
       "      <td>0.0</td>\n",
       "      <td>0.0</td>\n",
       "      <td>0.0</td>\n",
       "      <td>0.5</td>\n",
       "      <td>0.0</td>\n",
       "    </tr>\n",
       "    <tr>\n",
       "      <th>1</th>\n",
       "      <td>0.0</td>\n",
       "      <td>0.0</td>\n",
       "      <td>0.0</td>\n",
       "      <td>0.0</td>\n",
       "      <td>0.0</td>\n",
       "      <td>0.0</td>\n",
       "      <td>0.0</td>\n",
       "      <td>0.0</td>\n",
       "      <td>0.0</td>\n",
       "      <td>0.0</td>\n",
       "      <td>...</td>\n",
       "      <td>0.0</td>\n",
       "      <td>0.0</td>\n",
       "      <td>0.0</td>\n",
       "      <td>0.0</td>\n",
       "      <td>0.0</td>\n",
       "      <td>0.0</td>\n",
       "      <td>0.0</td>\n",
       "      <td>0.0</td>\n",
       "      <td>0.5</td>\n",
       "      <td>0.0</td>\n",
       "    </tr>\n",
       "    <tr>\n",
       "      <th>2</th>\n",
       "      <td>0.0</td>\n",
       "      <td>0.0</td>\n",
       "      <td>0.0</td>\n",
       "      <td>0.0</td>\n",
       "      <td>0.0</td>\n",
       "      <td>0.0</td>\n",
       "      <td>0.0</td>\n",
       "      <td>0.0</td>\n",
       "      <td>0.0</td>\n",
       "      <td>0.0</td>\n",
       "      <td>...</td>\n",
       "      <td>0.0</td>\n",
       "      <td>0.0</td>\n",
       "      <td>0.0</td>\n",
       "      <td>0.0</td>\n",
       "      <td>0.0</td>\n",
       "      <td>0.0</td>\n",
       "      <td>0.0</td>\n",
       "      <td>0.0</td>\n",
       "      <td>1.0</td>\n",
       "      <td>0.0</td>\n",
       "    </tr>\n",
       "    <tr>\n",
       "      <th>3</th>\n",
       "      <td>0.0</td>\n",
       "      <td>0.0</td>\n",
       "      <td>0.0</td>\n",
       "      <td>0.0</td>\n",
       "      <td>0.0</td>\n",
       "      <td>0.0</td>\n",
       "      <td>0.0</td>\n",
       "      <td>0.0</td>\n",
       "      <td>0.0</td>\n",
       "      <td>0.0</td>\n",
       "      <td>...</td>\n",
       "      <td>0.0</td>\n",
       "      <td>0.0</td>\n",
       "      <td>0.0</td>\n",
       "      <td>0.0</td>\n",
       "      <td>0.0</td>\n",
       "      <td>0.0</td>\n",
       "      <td>0.0</td>\n",
       "      <td>0.0</td>\n",
       "      <td>1.0</td>\n",
       "      <td>0.0</td>\n",
       "    </tr>\n",
       "    <tr>\n",
       "      <th>4</th>\n",
       "      <td>0.0</td>\n",
       "      <td>0.0</td>\n",
       "      <td>0.0</td>\n",
       "      <td>0.0</td>\n",
       "      <td>0.0</td>\n",
       "      <td>0.0</td>\n",
       "      <td>0.0</td>\n",
       "      <td>0.0</td>\n",
       "      <td>0.0</td>\n",
       "      <td>0.0</td>\n",
       "      <td>...</td>\n",
       "      <td>0.0</td>\n",
       "      <td>0.0</td>\n",
       "      <td>0.0</td>\n",
       "      <td>0.0</td>\n",
       "      <td>0.0</td>\n",
       "      <td>0.0</td>\n",
       "      <td>0.0</td>\n",
       "      <td>0.0</td>\n",
       "      <td>0.0</td>\n",
       "      <td>0.0</td>\n",
       "    </tr>\n",
       "  </tbody>\n",
       "</table>\n",
       "<p>5 rows × 4002 columns</p>\n",
       "</div>"
      ],
      "text/plain": [
       "    aa  aah  aaron   ab  abandon  abc  abil  abit  abl  about  ...  yummi  \\\n",
       "0  0.0  0.0    0.0  0.0      0.0  0.0   0.0   0.0  0.0    0.0  ...    0.0   \n",
       "1  0.0  0.0    0.0  0.0      0.0  0.0   0.0   0.0  0.0    0.0  ...    0.0   \n",
       "2  0.0  0.0    0.0  0.0      0.0  0.0   0.0   0.0  0.0    0.0  ...    0.0   \n",
       "3  0.0  0.0    0.0  0.0      0.0  0.0   0.0   0.0  0.0    0.0  ...    0.0   \n",
       "4  0.0  0.0    0.0  0.0      0.0  0.0   0.0   0.0  0.0    0.0  ...    0.0   \n",
       "\n",
       "   yup   yy  zac  zealand  zombi  zone  zoo  Time of Tweet  number_of_swears  \n",
       "0  0.0  0.0  0.0      0.0    0.0   0.0  0.0            0.5               0.0  \n",
       "1  0.0  0.0  0.0      0.0    0.0   0.0  0.0            0.5               0.0  \n",
       "2  0.0  0.0  0.0      0.0    0.0   0.0  0.0            1.0               0.0  \n",
       "3  0.0  0.0  0.0      0.0    0.0   0.0  0.0            1.0               0.0  \n",
       "4  0.0  0.0  0.0      0.0    0.0   0.0  0.0            0.0               0.0  \n",
       "\n",
       "[5 rows x 4002 columns]"
      ]
     },
     "execution_count": 21,
     "metadata": {},
     "output_type": "execute_result"
    }
   ],
   "source": [
    "df.head(5)"
   ]
  },
  {
   "cell_type": "markdown",
   "metadata": {},
   "source": [
    "more analysis on swears and sentiment"
   ]
  },
  {
   "cell_type": "code",
   "execution_count": 22,
   "metadata": {},
   "outputs": [
    {
     "data": {
      "text/plain": [
       "0.0    254979\n",
       "1.0      1795\n",
       "2.0       354\n",
       "3.0        27\n",
       "4.0         2\n",
       "6.0         1\n",
       "Name: number_of_swears, dtype: int64"
      ]
     },
     "execution_count": 22,
     "metadata": {},
     "output_type": "execute_result"
    }
   ],
   "source": [
    "df['number_of_swears'][labels==0].value_counts()"
   ]
  },
  {
   "cell_type": "code",
   "execution_count": 23,
   "metadata": {},
   "outputs": [
    {
     "data": {
      "text/plain": [
       "0.0    254994\n",
       "1.0      1722\n",
       "2.0       418\n",
       "3.0        16\n",
       "4.0         7\n",
       "5.0         1\n",
       "Name: number_of_swears, dtype: int64"
      ]
     },
     "execution_count": 23,
     "metadata": {},
     "output_type": "execute_result"
    }
   ],
   "source": [
    "df['number_of_swears'][labels==1].value_counts()"
   ]
  },
  {
   "cell_type": "code",
   "execution_count": 24,
   "metadata": {},
   "outputs": [
    {
     "data": {
      "text/plain": [
       "Series([], Name: number_of_swears, dtype: int64)"
      ]
     },
     "execution_count": 24,
     "metadata": {},
     "output_type": "execute_result"
    }
   ],
   "source": [
    "df['number_of_swears'][labels==2].value_counts()"
   ]
  },
  {
   "cell_type": "markdown",
   "metadata": {},
   "source": [
    "this shows that swears dont show relevancy. the distribution is similar in all categories given that we have less neutral samples."
   ]
  },
  {
   "cell_type": "code",
   "execution_count": 25,
   "metadata": {},
   "outputs": [],
   "source": [
    "\"\"\"split 0.4\"\"\"\n",
    "split = int(0.4*(len(features)))\n",
    "X_train = features[:split+1]\n",
    "y_train = labels[:split+1]"
   ]
  },
  {
   "cell_type": "code",
   "execution_count": 26,
   "metadata": {},
   "outputs": [],
   "source": [
    "X_test = features[split+1:]\n",
    "y_test = labels[split+1:]"
   ]
  },
  {
   "cell_type": "code",
   "execution_count": 27,
   "metadata": {},
   "outputs": [],
   "source": [
    "from sklearn.linear_model import LogisticRegression"
   ]
  },
  {
   "cell_type": "code",
   "execution_count": 28,
   "metadata": {},
   "outputs": [],
   "source": [
    "model=LogisticRegression(penalty = 'l2',solver='liblinear',C = 140, random_state=0)"
   ]
  },
  {
   "cell_type": "code",
   "execution_count": 29,
   "metadata": {},
   "outputs": [
    {
     "data": {
      "text/plain": [
       "LogisticRegression(C=140, random_state=0, solver='liblinear')"
      ]
     },
     "execution_count": 29,
     "metadata": {},
     "output_type": "execute_result"
    }
   ],
   "source": [
    "model.fit(X_train,y_train)"
   ]
  },
  {
   "cell_type": "code",
   "execution_count": 30,
   "metadata": {},
   "outputs": [
    {
     "name": "stdout",
     "output_type": "stream",
     "text": [
      "Accuracy score of the training data: 0.7619552219943031\n"
     ]
    }
   ],
   "source": [
    "yp = model.predict(X_test)\n",
    "training_data_accuracy = metrics.accuracy_score(yp, y_test)\n",
    "print('Accuracy score of the training data:',training_data_accuracy)"
   ]
  },
  {
   "cell_type": "markdown",
   "metadata": {},
   "source": [
    "76% score with logistic regression."
   ]
  },
  {
   "cell_type": "code",
   "execution_count": 76,
   "metadata": {
    "id": "7u4Iig_BRGUB"
   },
   "outputs": [
    {
     "data": {
      "text/html": [
       "<div>\n",
       "<style scoped>\n",
       "    .dataframe tbody tr th:only-of-type {\n",
       "        vertical-align: middle;\n",
       "    }\n",
       "\n",
       "    .dataframe tbody tr th {\n",
       "        vertical-align: top;\n",
       "    }\n",
       "\n",
       "    .dataframe thead th {\n",
       "        text-align: right;\n",
       "    }\n",
       "</style>\n",
       "<table border=\"1\" class=\"dataframe\">\n",
       "  <thead>\n",
       "    <tr style=\"text-align: right;\">\n",
       "      <th></th>\n",
       "      <th>textID</th>\n",
       "      <th>text</th>\n",
       "      <th>sentiment</th>\n",
       "      <th>Time of Tweet</th>\n",
       "    </tr>\n",
       "  </thead>\n",
       "  <tbody>\n",
       "    <tr>\n",
       "      <th>1</th>\n",
       "      <td>96d74cb729</td>\n",
       "      <td>Shanghai is also really exciting (precisely -...</td>\n",
       "      <td>1</td>\n",
       "      <td>0.0</td>\n",
       "    </tr>\n",
       "    <tr>\n",
       "      <th>2</th>\n",
       "      <td>eee518ae67</td>\n",
       "      <td>Recession hit Veronique Branquinho, she has to...</td>\n",
       "      <td>0</td>\n",
       "      <td>1.0</td>\n",
       "    </tr>\n",
       "    <tr>\n",
       "      <th>3</th>\n",
       "      <td>01082688c6</td>\n",
       "      <td>happy bday!</td>\n",
       "      <td>1</td>\n",
       "      <td>-1.0</td>\n",
       "    </tr>\n",
       "    <tr>\n",
       "      <th>4</th>\n",
       "      <td>33987a8ee5</td>\n",
       "      <td>http://twitpic.com/4w75p - I like it!!</td>\n",
       "      <td>1</td>\n",
       "      <td>0.0</td>\n",
       "    </tr>\n",
       "    <tr>\n",
       "      <th>5</th>\n",
       "      <td>726e501993</td>\n",
       "      <td>that`s great!! weee!! visitors!</td>\n",
       "      <td>1</td>\n",
       "      <td>1.0</td>\n",
       "    </tr>\n",
       "  </tbody>\n",
       "</table>\n",
       "</div>"
      ],
      "text/plain": [
       "       textID                                               text  sentiment  \\\n",
       "1  96d74cb729   Shanghai is also really exciting (precisely -...          1   \n",
       "2  eee518ae67  Recession hit Veronique Branquinho, she has to...          0   \n",
       "3  01082688c6                                        happy bday!          1   \n",
       "4  33987a8ee5             http://twitpic.com/4w75p - I like it!!          1   \n",
       "5  726e501993                    that`s great!! weee!! visitors!          1   \n",
       "\n",
       "   Time of Tweet  \n",
       "1            0.0  \n",
       "2            1.0  \n",
       "3           -1.0  \n",
       "4            0.0  \n",
       "5            1.0  "
      ]
     },
     "execution_count": 76,
     "metadata": {},
     "output_type": "execute_result"
    }
   ],
   "source": [
    "test1 = pd.read_csv(\"Dataset/test.csv\",encoding= 'unicode_escape')\n",
    "\n",
    "test1.drop(axis = 1,labels = ['Population -2020','Land Area (Km²)','Country','Age of User',\"Density (P/Km²)\"],inplace=True)\n",
    "test1 = test1[test1.text.notnull()]\n",
    "test1.reset_index(drop=True,inplace = True )\n",
    "\n",
    "test1['Time of Tweet'][test1['Time of Tweet'] == 'morning'] = -1 \n",
    "test1['Time of Tweet'][test1['Time of Tweet'] == 'noon'] = 0\n",
    "test1['Time of Tweet'][test1['Time of Tweet'] == 'night'] = 1\n",
    "test1['Time of Tweet'] = (test1['Time of Tweet'].astype('float'))\n",
    "\n",
    "test1 = test1[test1['sentiment'] != 'neutral']\n",
    "test1['sentiment'][test1['sentiment'] == 'negative'] = 0\n",
    "test1['sentiment'][test1['sentiment'] == 'positive'] = 1\n",
    "test1['sentiment'] = (test1['sentiment'].astype('int'))\n",
    "\n",
    "test1.head(5)"
   ]
  },
  {
   "cell_type": "code",
   "execution_count": 77,
   "metadata": {},
   "outputs": [
    {
     "data": {
      "text/plain": [
       "1    1103\n",
       "0    1001\n",
       "Name: sentiment, dtype: int64"
      ]
     },
     "execution_count": 77,
     "metadata": {},
     "output_type": "execute_result"
    }
   ],
   "source": [
    "test1['sentiment'].value_counts()"
   ]
  },
  {
   "cell_type": "code",
   "execution_count": 78,
   "metadata": {
    "id": "n205GFsAzJgt"
   },
   "outputs": [],
   "source": [
    "yt = test1['sentiment'].values\n",
    "idx = test1['textID'].values\n",
    "\n",
    "#features\n",
    "xt = tfidf_v.transform(test1['text']).todense()\n",
    "xt = np.column_stack([xt,test1['Time of Tweet'].values])\n",
    "\n",
    "\n",
    "\n",
    "ytp = model.predict(xt)\n",
    "\n",
    "submission = pd.DataFrame({'id':idx,'label':list(ytp)})\n",
    "submission.to_csv('Dataset/submit.csv')"
   ]
  },
  {
   "cell_type": "code",
   "execution_count": 79,
   "metadata": {},
   "outputs": [
    {
     "data": {
      "text/html": [
       "<div>\n",
       "<style scoped>\n",
       "    .dataframe tbody tr th:only-of-type {\n",
       "        vertical-align: middle;\n",
       "    }\n",
       "\n",
       "    .dataframe tbody tr th {\n",
       "        vertical-align: top;\n",
       "    }\n",
       "\n",
       "    .dataframe thead th {\n",
       "        text-align: right;\n",
       "    }\n",
       "</style>\n",
       "<table border=\"1\" class=\"dataframe\">\n",
       "  <thead>\n",
       "    <tr style=\"text-align: right;\">\n",
       "      <th></th>\n",
       "      <th>id</th>\n",
       "      <th>label</th>\n",
       "    </tr>\n",
       "  </thead>\n",
       "  <tbody>\n",
       "    <tr>\n",
       "      <th>0</th>\n",
       "      <td>96d74cb729</td>\n",
       "      <td>1</td>\n",
       "    </tr>\n",
       "    <tr>\n",
       "      <th>1</th>\n",
       "      <td>eee518ae67</td>\n",
       "      <td>0</td>\n",
       "    </tr>\n",
       "    <tr>\n",
       "      <th>2</th>\n",
       "      <td>01082688c6</td>\n",
       "      <td>0</td>\n",
       "    </tr>\n",
       "    <tr>\n",
       "      <th>3</th>\n",
       "      <td>33987a8ee5</td>\n",
       "      <td>1</td>\n",
       "    </tr>\n",
       "    <tr>\n",
       "      <th>4</th>\n",
       "      <td>726e501993</td>\n",
       "      <td>1</td>\n",
       "    </tr>\n",
       "    <tr>\n",
       "      <th>5</th>\n",
       "      <td>261932614e</td>\n",
       "      <td>0</td>\n",
       "    </tr>\n",
       "    <tr>\n",
       "      <th>6</th>\n",
       "      <td>afa11da83f</td>\n",
       "      <td>0</td>\n",
       "    </tr>\n",
       "    <tr>\n",
       "      <th>7</th>\n",
       "      <td>24c92644a4</td>\n",
       "      <td>0</td>\n",
       "    </tr>\n",
       "    <tr>\n",
       "      <th>8</th>\n",
       "      <td>5c1e0b61a1</td>\n",
       "      <td>0</td>\n",
       "    </tr>\n",
       "    <tr>\n",
       "      <th>9</th>\n",
       "      <td>504e45d9d9</td>\n",
       "      <td>0</td>\n",
       "    </tr>\n",
       "  </tbody>\n",
       "</table>\n",
       "</div>"
      ],
      "text/plain": [
       "           id  label\n",
       "0  96d74cb729      1\n",
       "1  eee518ae67      0\n",
       "2  01082688c6      0\n",
       "3  33987a8ee5      1\n",
       "4  726e501993      1\n",
       "5  261932614e      0\n",
       "6  afa11da83f      0\n",
       "7  24c92644a4      0\n",
       "8  5c1e0b61a1      0\n",
       "9  504e45d9d9      0"
      ]
     },
     "execution_count": 79,
     "metadata": {},
     "output_type": "execute_result"
    }
   ],
   "source": [
    "submission.head(10)"
   ]
  },
  {
   "cell_type": "code",
   "execution_count": 80,
   "metadata": {},
   "outputs": [
    {
     "name": "stdout",
     "output_type": "stream",
     "text": [
      "Accuracy score of the training data: 0.6863117870722434\n"
     ]
    }
   ],
   "source": [
    "training_data_accuracy = metrics.accuracy_score(ytp,yt)\n",
    "print('Accuracy score of the training data:',training_data_accuracy)"
   ]
  },
  {
   "cell_type": "code",
   "execution_count": null,
   "metadata": {},
   "outputs": [],
   "source": []
  }
 ],
 "metadata": {
  "colab": {
   "provenance": []
  },
  "kernelspec": {
   "display_name": "Python 3 (ipykernel)",
   "language": "python",
   "name": "python3"
  },
  "language_info": {
   "codemirror_mode": {
    "name": "ipython",
    "version": 3
   },
   "file_extension": ".py",
   "mimetype": "text/x-python",
   "name": "python",
   "nbconvert_exporter": "python",
   "pygments_lexer": "ipython3",
   "version": "3.9.12"
  }
 },
 "nbformat": 4,
 "nbformat_minor": 1
}
